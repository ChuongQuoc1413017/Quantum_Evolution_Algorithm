{
 "cells": [
  {
   "cell_type": "markdown",
   "metadata": {},
   "source": [
    "https://towardsdatascience.com/introducing-geneal-a-genetic-algorithm-python-library-db69abfc212c"
   ]
  },
  {
   "cell_type": "code",
   "execution_count": 1,
   "metadata": {},
   "outputs": [],
   "source": [
    "from Qsun.Qcircuit import *\n",
    "from Qsun.Qgates import *\n",
    "from Qsun.Qmeas import *\n",
    "import numpy as np"
   ]
  },
  {
   "cell_type": "code",
   "execution_count": 2,
   "metadata": {},
   "outputs": [],
   "source": [
    "def initialize_population(pop_size, n_genes, input_limits):\n",
    "\n",
    "    population = np.random.randint(input_limits, size=(pop_size, n_genes))\n",
    "\n",
    "    return population"
   ]
  },
  {
   "cell_type": "code",
   "execution_count": 3,
   "metadata": {},
   "outputs": [],
   "source": [
    "def decoding_circuit(circuit, encoding_list, individual, params=None):\n",
    "    \n",
    "    n_qubit = int(len(individual)/5)\n",
    "#     index_params = 0\n",
    "    \n",
    "    for i in range(n_qubit):\n",
    "        for j in range(5):\n",
    "            index = i*5+j\n",
    "            if encoding_list[individual[index]] == 'H':\n",
    "                H(circuit, i)\n",
    "            elif encoding_list[individual[index]] == 'X':\n",
    "                X(circuit, i)\n",
    "            elif encoding_list[individual[index]] == 'Y':\n",
    "                Y(circuit, i)\n",
    "            elif encoding_list[individual[index]] == 'Z':\n",
    "                Z(circuit, i)\n",
    "            elif encoding_list[individual[index]] == 'S':\n",
    "                S(circuit, i)\n",
    "            elif encoding_list[individual[index]] == 'T':\n",
    "                T(circuit, i)\n",
    "            elif encoding_list[individual[index]] == 'Xsquare':\n",
    "                Xsquare(circuit, i)\n",
    "            elif encoding_list[individual[index]] == 'RX':\n",
    "#                 RX(circuit, i, params[index_params])\n",
    "#                 index_params += 1\n",
    "                RX(circuit, i)\n",
    "            elif encoding_list[individual[index]] == 'RY':\n",
    "#                 RY(circuit, i, params[index_params])\n",
    "#                 index_params += 1\n",
    "                RY(circuit, i)\n",
    "            elif encoding_list[individual[index]] == 'RZ':\n",
    "#                 RZ(circuit, i, params[index_params])\n",
    "#                 index_params += 1\n",
    "                RZ(circuit, i)\n",
    "    \n",
    "    for i in range(n_qubit-1):\n",
    "        CNOT(circuit, i, i+1)\n",
    "    CNOT(circuit, n_qubit-1, 0)\n",
    "    \n",
    "    return circuit\n",
    "\n",
    "def circuit_layers(n_layers, encoding_list, individual, params=None):\n",
    "    \n",
    "    circuit = Qubit(int(len(individual)/5))\n",
    "    for i in range(n_layers):\n",
    "#         circuit = decoding_circuit(circuit, encoding_list, individual, params[i])\n",
    "        circuit = decoding_circuit(circuit, encoding_list, individual)\n",
    "    return circuit    "
   ]
  },
  {
   "cell_type": "code",
   "execution_count": 4,
   "metadata": {},
   "outputs": [],
   "source": [
    "def fitness_function(n_layers, encoding_list, individual):\n",
    "    \n",
    "    n_qubit = int(len(individual)/5)\n",
    "    circuit = circuit_layers(n_layers, encoding_list, individual)\n",
    "    \n",
    "    expectation = np.array([measure_one(circuit, i)[1] for i in range(n_qubit)])\n",
    "    return np.sum(expectation) - np.sum(individual < 10) / len(individual)\n",
    "\n",
    "def calculate_fitness(population, n_layers, encoding_list):\n",
    "    \n",
    "    return np.array([fitness_function(n_layers, encoding_list, individual) for individual in population])"
   ]
  },
  {
   "cell_type": "code",
   "execution_count": 5,
   "metadata": {},
   "outputs": [],
   "source": [
    "def select_parents(selection_strategy, n_matings, fitness, prob_intervals):\n",
    "    \"\"\"\n",
    "    Selects the parents according to a given selection strategy.\n",
    "    Options are:\n",
    "    roulette_wheel: Selects individuals from mating pool giving\n",
    "    higher probabilities to fitter individuals.\n",
    "    \n",
    "    :param selection_strategy: the strategy to use for selecting parents\n",
    "    :param n_matings: the number of matings to perform\n",
    "    :param prob_intervals: the selection probability for each individual in \n",
    "     the mating pool.\n",
    "    :return: 2 arrays with selected individuals corresponding to each parent\n",
    "    \"\"\"\n",
    "\n",
    "    ma, pa = None, None\n",
    "\n",
    "    if selection_strategy == \"roulette_wheel\":\n",
    "\n",
    "        ma = np.apply_along_axis(lambda value: np.argmin(value > prob_intervals) - 1, 1, np.random.rand(n_matings, 1))\n",
    "        pa = np.apply_along_axis(lambda value: np.argmin(value > prob_intervals) - 1, 1, np.random.rand(n_matings, 1))\n",
    "        \n",
    "    return ma, pa\n",
    "\n",
    "#     parents = np.random.choice(len(population), 2, p=fitness/sum(fitness), replace=False)\n",
    "#     return parents[0], parents[1]"
   ]
  },
  {
   "cell_type": "code",
   "execution_count": 6,
   "metadata": {},
   "outputs": [],
   "source": [
    "def create_offspring(first_parent, sec_parent, crossover_pt=None, offspring_number = \"first\"):\n",
    "    \n",
    "    if crossover_pt == None:\n",
    "        crossover_pt = int(len(first_parent)/2)\n",
    "    \n",
    "    if offspring_number == \"first\":\n",
    "        return np.hstack((first_parent[:crossover_pt], sec_parent[crossover_pt:]))\n",
    "    \n",
    "    elif offspring_number == \"second\":\n",
    "        return np.hstack((sec_parent[:crossover_pt], first_parent[crossover_pt:]))"
   ]
  },
  {
   "cell_type": "code",
   "execution_count": 7,
   "metadata": {},
   "outputs": [],
   "source": [
    "def mutate_population(population, n_mutations, input_limits):\n",
    "\n",
    "    mutation_rows = np.random.choice(np.arange(1, population.shape[0]), n_mutations, replace=True)\n",
    "\n",
    "    mutation_columns = np.random.choice(population.shape[1], n_mutations, replace=True)\n",
    "    \n",
    "    new_population = np.random.randint(input_limits, size=population.shape)\n",
    "\n",
    "    population[mutation_rows, mutation_columns] = new_population[mutation_rows, mutation_columns]\n",
    "\n",
    "    return population"
   ]
  },
  {
   "cell_type": "code",
   "execution_count": 8,
   "metadata": {},
   "outputs": [],
   "source": [
    "def sort_by_fitness(fitness, population):\n",
    "    \n",
    "    sorted_fitness = np.argsort(fitness)[::-1]\n",
    "\n",
    "    population = population[sorted_fitness, :]\n",
    "    fitness = fitness[sorted_fitness]\n",
    "\n",
    "    return fitness, population"
   ]
  },
  {
   "cell_type": "code",
   "execution_count": 9,
   "metadata": {},
   "outputs": [],
   "source": [
    "def get_selection_probabilities(selection_strategy, pop_keep):\n",
    "\n",
    "    if selection_strategy == \"roulette_wheel\":\n",
    "\n",
    "        mating_prob = (np.arange(1, pop_keep + 1) / np.arange(1, pop_keep + 1).sum())[::-1]\n",
    "\n",
    "        return np.array([0, *np.cumsum(mating_prob[: pop_keep + 1])])\n",
    "\n",
    "    elif selection_strategy == \"random\":\n",
    "        return np.linspace(0, 1, pop_keep + 1)"
   ]
  },
  {
   "cell_type": "code",
   "execution_count": 17,
   "metadata": {},
   "outputs": [],
   "source": [
    "selection_strategy = \"roulette_wheel\" \n",
    "selection_rate = 0.5\n",
    "mutation_rate = 0.1\n",
    "\n",
    "n_genes = 20 # number of variables\n",
    "pop_size = 40 # population size\n",
    "pop_keep = math.floor(selection_rate * pop_size) # number of individuals to keep on each iteration\n",
    "\n",
    "n_matings = math.floor((pop_size - pop_keep) / 2) # number of crossovers to perform\n",
    "n_mutations = math.ceil((pop_size - 1) * n_genes * mutation_rate) # number o mutations to perform\n",
    "\n",
    "# probability intervals, needed for roulete_wheel and random selection strategies\n",
    "prob_intervals = get_selection_probabilities(selection_strategy, pop_keep)\n",
    "\n",
    "max_gen = 100 # Maximum number of generations\n",
    "\n",
    "encoding_list = {0: 'H',\n",
    "                 1: 'X',\n",
    "                 2: 'Y',\n",
    "                 3: 'Z',\n",
    "                 4: 'S',\n",
    "                 5: 'T',\n",
    "                 6: 'Xsquare',\n",
    "                 7: 'RX',\n",
    "                 8: 'RY',\n",
    "                 9: 'RZ',\n",
    "                 10: None}\n",
    "\n",
    "input_limits = len(encoding_list)\n",
    "n_layers = 2"
   ]
  },
  {
   "cell_type": "code",
   "execution_count": 18,
   "metadata": {
    "scrolled": true
   },
   "outputs": [
    {
     "data": {
      "text/plain": [
       "array([[ 2, 10, 10,  8,  0,  1,  5,  6,  7,  1,  4,  8,  4,  3,  7,  1,\n",
       "         3,  3,  9,  0],\n",
       "       [ 5,  2,  7,  4,  9,  5,  8,  1,  6,  8, 10,  5,  0,  0, 10, 10,\n",
       "         3, 10, 10, 10],\n",
       "       [ 7,  8,  9,  3,  8,  0,  9,  4,  8,  3, 10,  0,  8, 10,  5,  3,\n",
       "         9,  3,  7,  3],\n",
       "       [ 6, 10,  2,  1,  8,  0,  5,  4,  3, 10,  8,  4,  0,  3,  5,  4,\n",
       "         2, 10,  4,  6],\n",
       "       [ 2,  9,  6,  1,  8,  2, 10,  5,  1,  6,  1,  8,  0, 10,  3,  9,\n",
       "         5,  9,  2,  8],\n",
       "       [ 3,  9,  4,  6, 10,  1, 10,  6,  3,  1,  8,  6,  1,  9,  3,  9,\n",
       "         2,  8,  7,  5],\n",
       "       [ 2,  6,  0,  1,  8,  1,  7,  5, 10,  3,  3,  9,  9,  8,  8,  6,\n",
       "         2,  9,  7,  7],\n",
       "       [10,  6,  0, 10,  5,  7,  6,  5,  4,  7, 10,  9,  0,  1,  8, 10,\n",
       "         3,  2,  4,  7],\n",
       "       [ 8,  9,  2,  2,  8,  2,  9,  8,  0,  1,  1,  2,  5, 10,  9,  6,\n",
       "         7,  5,  8,  3],\n",
       "       [ 7,  1, 10,  9,  4, 10,  5,  3,  4,  4,  4,  0,  7,  5,  7,  5,\n",
       "         0,  0,  7, 10],\n",
       "       [ 5,  9,  7,  1,  8,  2, 10, 10,  6,  8,  2,  8,  5,  4,  2,  5,\n",
       "         4,  9,  0,  8],\n",
       "       [10,  5,  6,  0,  7,  9,  8,  4,  1,  9,  7,  1,  8, 10,  3, 10,\n",
       "         5,  9,  4,  8],\n",
       "       [ 7, 10,  6,  2,  3,  0,  0,  5,  4, 10,  2,  2,  0,  4,  5,  1,\n",
       "         0,  7,  1,  0],\n",
       "       [ 1,  6,  7,  0,  8,  3,  4,  9,  4, 10,  4,  4, 10,  3,  4,  5,\n",
       "         0,  6,  7, 10],\n",
       "       [ 4,  6, 10,  4,  8,  3,  5,  2,  4,  2, 10,  8,  4,  0, 10,  9,\n",
       "         5, 10,  4, 10],\n",
       "       [ 1,  6,  3,  1,  3,  9,  2,  1,  7,  7,  9,  7,  3,  5,  6,  1,\n",
       "         5,  8,  6,  0],\n",
       "       [ 7,  2,  2,  9,  3,  8,  2,  4,  7,  0,  6,  7,  7,  0,  1,  8,\n",
       "         5, 10,  9,  8],\n",
       "       [ 2,  1,  1,  0,  5,  4,  0,  5,  3,  7,  5,  2,  8,  2,  6,  9,\n",
       "         5,  1,  8,  4],\n",
       "       [ 0,  7, 10,  2,  1, 10,  0, 10,  5,  8,  9,  0,  5,  3,  9,  1,\n",
       "         2,  4,  8,  3],\n",
       "       [ 2,  4,  6,  4,  8,  0, 10,  5,  9,  0,  9,  7,  1,  5,  1, 10,\n",
       "         7, 10,  4,  4],\n",
       "       [ 9,  1,  8,  6,  4,  5,  6,  5,  7,  1,  5,  3,  9,  8,  5,  6,\n",
       "         6,  0,  5,  4],\n",
       "       [ 6,  3, 10,  3,  4,  9,  8,  0,  4,  4,  8, 10,  0,  8, 10,  0,\n",
       "         2,  0, 10,  0],\n",
       "       [ 2, 10,  5,  9,  2,  2,  2,  2,  8, 10,  3,  0,  2,  4,  4,  2,\n",
       "         1,  3,  7,  7],\n",
       "       [ 8,  5,  7, 10,  7, 10,  8,  0, 10,  3,  2,  9,  9,  8,  5,  8,\n",
       "         5,  7,  9,  1],\n",
       "       [ 4, 10,  5,  4,  6,  5,  9,  2,  4,  1,  3,  9,  8,  7,  8,  2,\n",
       "         4,  0,  9,  1],\n",
       "       [10,  9,  9,  7,  1,  2,  6,  4,  3,  4,  3,  7, 10,  3,  7,  0,\n",
       "         3,  4,  9,  6],\n",
       "       [ 4,  1,  8,  9,  7,  6,  6,  9,  4,  5,  8,  1,  3,  5,  1,  7,\n",
       "         6,  1,  8,  3],\n",
       "       [ 8, 10,  3, 10,  1,  9,  5,  1,  9,  1,  0,  6,  0,  0,  5,  8,\n",
       "         5, 10,  7,  7],\n",
       "       [ 8,  7,  4,  8,  2, 10,  8,  2,  6,  7,  3,  6,  1,  2,  7, 10,\n",
       "         1,  8, 10,  6],\n",
       "       [ 8, 10,  5,  4,  7,  0,  3,  1,  1,  0,  5,  8,  7,  7, 10, 10,\n",
       "         2,  5,  7,  2],\n",
       "       [ 7,  3,  9,  0,  7,  6,  2,  1,  1,  8,  1,  4,  5,  2,  6,  8,\n",
       "        10,  8,  1,  4],\n",
       "       [ 7,  1,  2,  2,  1,  8,  1,  5,  4,  3,  2,  5,  3,  0,  0, 10,\n",
       "         3,  1,  3,  1],\n",
       "       [ 8,  1,  0,  7,  1,  7,  5,  4,  7,  9,  5, 10,  4,  6,  1,  3,\n",
       "         8,  8, 10,  4],\n",
       "       [10,  7,  8,  5,  3,  2, 10,  1,  8,  0,  4,  6, 10,  0,  5,  9,\n",
       "         4,  3,  7,  2],\n",
       "       [ 3,  1,  4,  2,  7,  9,  8,  8,  1,  1,  6,  9,  5,  9,  4, 10,\n",
       "         7,  0,  8,  5],\n",
       "       [10,  6,  7,  7,  7,  6,  9, 10,  0,  2,  0,  5,  7, 10,  5,  2,\n",
       "         4,  3,  8,  2],\n",
       "       [ 4,  4,  0,  5,  5,  5,  6,  1,  6,  8,  0, 10, 10,  3,  7,  7,\n",
       "         5,  3,  1,  5],\n",
       "       [ 1, 10,  1,  2,  7,  8,  8,  1,  7,  0,  6,  0,  6,  4,  7,  8,\n",
       "         8,  7,  3,  6],\n",
       "       [ 1,  1,  3,  4, 10,  9,  9, 10,  4,  4,  5,  9,  5,  6,  1, 10,\n",
       "         3,  1,  5,  4],\n",
       "       [ 4, 10,  3, 10,  0,  9,  1,  8,  9, 10,  1,  3,  1,  0,  1,  3,\n",
       "         5,  0,  2,  0]])"
      ]
     },
     "execution_count": 18,
     "metadata": {},
     "output_type": "execute_result"
    }
   ],
   "source": [
    "population = initialize_population(pop_size, n_genes, input_limits)\n",
    "population"
   ]
  },
  {
   "cell_type": "code",
   "execution_count": 19,
   "metadata": {},
   "outputs": [
    {
     "name": "stdout",
     "output_type": "stream",
     "text": [
      "|Q_0> : Y--RY-H-----------------------------------------------o--------x--Y--RY-H-----------------------------------------------o--------x---M\n",
      "                                                              |        |                                                        |        |    \n",
      "|Q_1> : ---------X--T--XS--RX-X--------------------------------x--o-----------------X--T--XS--RX-X--------------------------------x--o---------M\n",
      "                                                                 |     |                                                           |     |    \n",
      "|Q_2> : ------------------------S--RY-S--Z--RX-------------------x--o-----------------------------S--RY-S--Z--RX-------------------x--o------M\n",
      "                                                                    |  |                                                              |  |    \n",
      "|Q_3> : ---------------------------------------X--Z--Z--RZ-H--------x--o-----------------------------------------X--Z--Z--RZ-H--------x--o---M\n",
      "                                                                                                                                              \n"
     ]
    }
   ],
   "source": [
    "circuit = circuit_layers(n_layers, encoding_list, population[0])\n",
    "circuit.visual_circuit()"
   ]
  },
  {
   "cell_type": "code",
   "execution_count": 20,
   "metadata": {},
   "outputs": [
    {
     "data": {
      "text/plain": [
       "array([2.2       , 1.45355339, 1.35355339, 1.35      , 1.25      ,\n",
       "       1.25      , 1.25      , 1.2267767 , 1.2       , 1.2       ,\n",
       "       1.15      , 1.15      , 1.15      , 1.15      , 1.15      ,\n",
       "       1.15      , 1.15      , 1.1       , 1.1       , 1.1       ,\n",
       "       1.1       , 1.1       , 1.1       , 1.1       , 1.05      ,\n",
       "       1.05      , 1.05      , 1.05      , 1.05      , 1.05      ,\n",
       "       1.05      , 1.05      , 1.05      , 1.05      , 1.        ,\n",
       "       1.        , 0.89644661, 0.84644661, 0.69644661, 0.1       ])"
      ]
     },
     "execution_count": 20,
     "metadata": {},
     "output_type": "execute_result"
    }
   ],
   "source": [
    "# initialize the population\n",
    "population = initialize_population(pop_size, n_genes, input_limits)\n",
    "\n",
    "# Calculate the fitness of the population\n",
    "fitness = calculate_fitness(population, n_layers, encoding_list)\n",
    "\n",
    "# Sort population by fitness\n",
    "fitness, population = sort_by_fitness(fitness, population)\n",
    "\n",
    "fitness"
   ]
  },
  {
   "cell_type": "code",
   "execution_count": 21,
   "metadata": {},
   "outputs": [],
   "source": [
    "gen_n = 0\n",
    "\n",
    "while gen_n <= 100:\n",
    "\n",
    "    gen_n += 1\n",
    "\n",
    "    # Get parents pairs\n",
    "    ma, pa = select_parents(selection_strategy, n_matings, fitness, prob_intervals)\n",
    "\n",
    "    # Get indices of individuals to be replaced\n",
    "    ix = np.arange(0, pop_size - pop_keep - 1, 2)\n",
    "\n",
    "    for i in range(len(ix)):\n",
    "\n",
    "        # create first offspring\n",
    "        population[-1-ix[i]] = create_offspring(population[ma[i]], population[pa[i]], None, \"first\")\n",
    "\n",
    "        # create second offspring\n",
    "        population[-1-ix[i]-1] = create_offspring(population[ma[i]], population[pa[i]], None, \"second\")\n",
    "\n",
    "    population = mutate_population(population, n_mutations, input_limits)\n",
    "    \n",
    "    fitness = calculate_fitness(population, n_layers, encoding_list)\n",
    "\n",
    "    fitness, population = sort_by_fitness(fitness, population)"
   ]
  },
  {
   "cell_type": "code",
   "execution_count": 22,
   "metadata": {},
   "outputs": [
    {
     "data": {
      "text/plain": [
       "(array([ 7,  2,  7, 10, 10, 10, 10, 10,  1, 10, 10,  5, 10, 10,  7, 10, 10,\n",
       "        10, 10, 10]),\n",
       " 3.7)"
      ]
     },
     "execution_count": 22,
     "metadata": {},
     "output_type": "execute_result"
    }
   ],
   "source": [
    "population[0], fitness[0]"
   ]
  },
  {
   "cell_type": "code",
   "execution_count": 23,
   "metadata": {},
   "outputs": [
    {
     "data": {
      "text/plain": [
       "array([ 3.7 ,  3.7 ,  3.65,  3.6 ,  3.6 ,  3.6 ,  3.6 ,  3.6 ,  3.6 ,\n",
       "        3.6 ,  3.55,  3.55,  3.55,  3.55,  3.55,  3.5 ,  3.45,  2.6 ,\n",
       "        2.55,  2.5 ,  2.45,  1.65,  1.6 ,  1.6 ,  1.55,  1.55,  1.55,\n",
       "        1.5 ,  1.5 ,  1.5 ,  1.5 ,  1.45,  1.35,  0.65,  0.55,  0.55,\n",
       "        0.5 ,  0.5 ,  0.45, -0.5 ])"
      ]
     },
     "execution_count": 23,
     "metadata": {},
     "output_type": "execute_result"
    }
   ],
   "source": [
    "fitness"
   ]
  },
  {
   "cell_type": "code",
   "execution_count": 24,
   "metadata": {},
   "outputs": [
    {
     "name": "stdout",
     "output_type": "stream",
     "text": [
      "|Q_0> : RX-Y--RX----------o--------x--RX-Y--RX----------o--------x---M\n",
      "                          |        |                    |        |    \n",
      "|Q_1> : ---------X--------x--o-----------------X--------x--o---------M\n",
      "                             |     |                       |     |    \n",
      "|Q_2> : ------------T--RX----x--o-----------------T--RX----x--o------M\n",
      "                                |  |                          |  |    \n",
      "|Q_3> : ------------------------x--o--------------------------x--o---M\n",
      "                                                                      \n"
     ]
    }
   ],
   "source": [
    "circuit = circuit_layers(n_layers, encoding_list, population[0])\n",
    "circuit.visual_circuit()"
   ]
  },
  {
   "cell_type": "code",
   "execution_count": 16,
   "metadata": {},
   "outputs": [
    {
     "data": {
      "text/plain": [
       "4.0"
      ]
     },
     "execution_count": 16,
     "metadata": {},
     "output_type": "execute_result"
    }
   ],
   "source": [
    "expectation = np.array([measure_one(circuit, i)[1] for i in range(4)])\n",
    "np.sum(expectation)"
   ]
  },
  {
   "cell_type": "code",
   "execution_count": null,
   "metadata": {},
   "outputs": [],
   "source": []
  }
 ],
 "metadata": {
  "kernelspec": {
   "display_name": "Python 3",
   "language": "python",
   "name": "python3"
  },
  "language_info": {
   "codemirror_mode": {
    "name": "ipython",
    "version": 3
   },
   "file_extension": ".py",
   "mimetype": "text/x-python",
   "name": "python",
   "nbconvert_exporter": "python",
   "pygments_lexer": "ipython3",
   "version": "3.7.6"
  }
 },
 "nbformat": 4,
 "nbformat_minor": 4
}
